{
 "cells": [
  {
   "cell_type": "markdown",
   "metadata": {},
   "source": [
    "# Image Week - Day 1 - Exercice 1 - Images et Filtrage"
   ]
  },
  {
   "cell_type": "markdown",
   "metadata": {},
   "source": [
    "<a target=\"_blank\" href=\"https://colab.research.google.com/github/leclairearthur/imageweek/blob/main/exo1.ipynb\">\n",
    "  <img src=\"https://colab.research.google.com/assets/colab-badge.svg\" alt=\"Open In Colab\"/>\n",
    "</a>"
   ]
  },
  {
   "cell_type": "markdown",
   "metadata": {},
   "source": [
    "<br/><br/>"
   ]
  },
  {
   "cell_type": "markdown",
   "metadata": {},
   "source": [
    "In this practical session, you have to complete the code regions marked ``### ... ###``."
   ]
  },
  {
   "cell_type": "code",
   "execution_count": null,
   "metadata": {},
   "outputs": [],
   "source": [
    "import numpy as np\n",
    "from numpy.fft import fft, ifft, fft2, ifft2, fftshift, ifftshift\n",
    "import matplotlib.pyplot as plt\n",
    "\n",
    "def rgb2gray(u):\n",
    "    return 0.2989 * u[:,:,0] + 0.5870 * u[:,:,1] + 0.1140 * u[:,:,2]\n",
    "\n",
    "# viewimage\n",
    "import tempfile\n",
    "import IPython\n",
    "from skimage.transform import rescale\n",
    "def viewimage(im, normalize=True,z=2,order=0,titre='',displayfilename=False):\n",
    "    imin= np.array(im).astype(np.float32)\n",
    "    channel_axis = 2 if len(u0.shape)>2 else None\n",
    "    imin = rescale(imin, z, order=order, channel_axis=channel_axis)\n",
    "    if normalize:\n",
    "        imin-=imin.min()\n",
    "        if imin.max()>0:\n",
    "            imin/=imin.max()\n",
    "    else:\n",
    "        imin=imin.clip(0,255)/255 \n",
    "    imin=(imin*255).astype(np.uint8)\n",
    "    filename=tempfile.mktemp(titre+'.png')\n",
    "    if displayfilename:\n",
    "        print (filename)\n",
    "    plt.imsave(filename, imin, cmap='gray')\n",
    "    IPython.display.display(IPython.display.Image(filename))\n",
    "\n",
    "# alternative viewimage if the other one does not work:\n",
    "def Viewimage(im,dpi=100,cmap='gray'):\n",
    "    plt.figure(dpi=dpi)\n",
    "    if cmap is None:\n",
    "        plt.imshow(im)\n",
    "    else:\n",
    "        plt.imshow(im,cmap=cmap)\n",
    "    plt.axis('off')\n",
    "    plt.show()\n",
    "\n",
    "!wget https://perso.telecom-paristech.fr/aleclaire/mva/tpdeblur.zip\n",
    "!unzip tpdeblur.zip"
   ]
  },
  {
   "cell_type": "code",
   "execution_count": null,
   "metadata": {},
   "outputs": [],
   "source": [
    "# Ouvrir l'image\n",
    "u0 = rgb2gray(plt.imread('im/simpson512.png'))\n",
    "u0 = u0[135:263,40:168]\n",
    "M,N = u0.shape\n",
    "\n",
    "# Ajuster le paramètre z par défaut de la fonction viewimage\n",
    "#  pour que les images s'affichent à une taille raisonnable.\n",
    "print(u0.shape)\n",
    "viewimage(u0)"
   ]
  },
  {
   "cell_type": "markdown",
   "metadata": {},
   "source": [
    "**QUESTION :** En utilisant la fonction `numpy.random.randn`, ajouter à $u_0$ un bruit blanc gaussien d'écart-type $\\sigma$. Afficher l'image bruitée."
   ]
  },
  {
   "cell_type": "code",
   "execution_count": null,
   "metadata": {},
   "outputs": [],
   "source": [
    "sigma = 0.1  # écart-type\n",
    "v = ### ... ###\n",
    "\n",
    "viewimage(v)"
   ]
  },
  {
   "cell_type": "markdown",
   "metadata": {},
   "source": [
    "**QUESTION :** Calculer les dérivées discrètes $\\partial_1 u_0$, $\\partial_2 u_0$.\n",
    "\n",
    "(En adoptant des conditions de bord périodiques, on pourra utiliser ``np.roll``.)"
   ]
  },
  {
   "cell_type": "code",
   "execution_count": null,
   "metadata": {},
   "outputs": [],
   "source": [
    "### ... ###\n",
    "\n",
    "viewimage(d1u)\n",
    "viewimage(d2u)"
   ]
  },
  {
   "cell_type": "markdown",
   "metadata": {},
   "source": [
    "**QUESTION :** Calculer la transformée de Fourier discrète de $u_0$ et afficher son module en échelle logarithmique (i.e. afficher $\\log(1+|\\hat{u}|)$)."
   ]
  },
  {
   "cell_type": "code",
   "execution_count": null,
   "metadata": {},
   "outputs": [],
   "source": [
    "### ... ###\n",
    "\n",
    "viewimage(spu)"
   ]
  },
  {
   "cell_type": "markdown",
   "metadata": {},
   "source": [
    "**QUESTION :** Calculer les deux dérivées de l'image en effectuant des convolutions (via la FFT)."
   ]
  },
  {
   "cell_type": "code",
   "execution_count": null,
   "metadata": {},
   "outputs": [],
   "source": [
    "### ... ###"
   ]
  },
  {
   "cell_type": "markdown",
   "metadata": {},
   "source": [
    "**QUESTION :** En utilisant les fréquences $\\xi, \\zeta$ définies dans le code, calculer le filtre de Wiener $h_{\\lambda}$ vu en cours. Afficher son spectre centré.\n",
    "\n",
    "On rappelle que $h_{\\lambda}$ est défini par sa transformée de Fourier :\n",
    "$$\\forall (\\xi,\\zeta) \\in \\Omega, \\quad\n",
    "    \\hat{h}_\\lambda(\\xi,\\zeta) = \\frac{1}{1 + 2\\lambda \\ \\hat{L}(\\xi,\\zeta) } $$\n",
    "où\n",
    "$$ \\hat{L}(\\xi,\\zeta) = 4 \\left( \\sin^2\\left(\\pi \\frac{\\xi}{M}\\right) + \\sin^2 \\left(\\pi \\frac{\\zeta}{N}\\right) \\right) .$$"
   ]
  },
  {
   "cell_type": "code",
   "execution_count": null,
   "metadata": {},
   "outputs": [],
   "source": [
    "# Filtre de Wiener\n",
    "xi = np.arange(M)\n",
    "ind = (xi>M/2)\n",
    "xi[ind] = xi[ind]-M\n",
    "zeta = np.arange(N)\n",
    "ind = (zeta>N/2)\n",
    "zeta[ind] = zeta[ind]-N\n",
    "Xi,Zeta = np.meshgrid(xi,zeta)\n",
    "\n",
    "lam = 2\n",
    "fh = ### ... ###\n",
    "h = ifft2(fh).real\n",
    "\n",
    "plt.figure(dpi=100)\n",
    "plt.imshow(fftshift(fh),cmap='gray')\n",
    "plt.axis('off')\n",
    "plt.title(r'Spectre de $h_{\\lambda}$')\n",
    "plt.show()"
   ]
  },
  {
   "cell_type": "markdown",
   "metadata": {},
   "source": [
    "**QUESTION.** Utiliser le filtre $h_{\\lambda}$ pour filtrer l'image $v$. \n",
    "Comparer l'image bruitée $v$ et l'image débruitée $u$.\n",
    "\n",
    "\n",
    "$$\\forall (\\xi,\\zeta) \\in \\Omega, \\quad\n",
    "    \\hat{u}_*(\\xi,\\zeta) = \\hat{h}_\\lambda(\\xi,\\zeta) \\hat{v}(\\xi,\\zeta) = \\frac{\\hat{v}(\\xi,\\zeta)}{1 + 2\\lambda \\ \\hat{L}(\\xi,\\zeta) } $$\n"
   ]
  },
  {
   "cell_type": "code",
   "execution_count": null,
   "metadata": {},
   "outputs": [],
   "source": [
    "### ... ###\n",
    "    \n",
    "plt.figure(dpi=100, figsize=(10,10))\n",
    "plt.subplot(1,2,1)\n",
    "plt.imshow(v,cmap='gray')\n",
    "plt.axis('off')\n",
    "plt.title('Image bruitée')\n",
    "plt.subplot(1,2,2)\n",
    "plt.imshow(u,cmap='gray')\n",
    "plt.axis('off')\n",
    "plt.title('Image débruitée')\n",
    "plt.show()"
   ]
  },
  {
   "cell_type": "markdown",
   "metadata": {},
   "source": [
    "**QUESTION :** Écrire une fonction permettant de calculer le PSNR.\n",
    "\n",
    "Comparer les PSNR de $u$ et $v$ par rapport à l'image $u_0$.\n",
    "\n",
    "Utiliser cette fonction PSNR pour essayer de trouver une meilleure valeur de $\\lambda$."
   ]
  },
  {
   "cell_type": "code",
   "execution_count": null,
   "metadata": {},
   "outputs": [],
   "source": [
    "def psnr(uref,ut,MAX=1):\n",
    "    ### ... ###\n",
    "\n",
    "print('PSNR(u0,u) =', psnr(u0,u), 'dB')\n",
    "print('PSNR(u0,v) =', psnr(u0,v), 'dB')"
   ]
  },
  {
   "cell_type": "markdown",
   "metadata": {},
   "source": [
    "### Floutage et défloutage "
   ]
  },
  {
   "cell_type": "markdown",
   "metadata": {},
   "source": [
    "On charge un noyau de flou de bouger."
   ]
  },
  {
   "cell_type": "code",
   "execution_count": null,
   "metadata": {},
   "outputs": [],
   "source": [
    "kt = np.loadtxt('kernels/kernel8.txt')\n",
    "\n",
    "plt.imshow(kt,cmap='gray')\n",
    "plt.title('Noyau de flou')\n",
    "plt.show()"
   ]
  },
  {
   "cell_type": "markdown",
   "metadata": {},
   "source": [
    "Pour pouvoir faire les convolutions avec la FFT, on plonge le noyau de flou dans une image de bonnes dimensions, et on le centre en (0,0)."
   ]
  },
  {
   "cell_type": "code",
   "execution_count": null,
   "metadata": {},
   "outputs": [],
   "source": [
    "k = np.zeros((M,N))\n",
    "(m,n) = kt.shape\n",
    "\n",
    "k[0:m,0:n] = kt/np.sum(kt)\n",
    "k = np.roll(k,(-int(m/2),-int(n/2)),(0,1))\n",
    "\n",
    "viewimage(fftshift(k))"
   ]
  },
  {
   "cell_type": "markdown",
   "metadata": {},
   "source": [
    "**QUESTION :** Calculer une réalisation du modèle de dégradation \n",
    "$$ v = k*u_0 + w $$\n",
    "où $w$ est un bruit blanc gaussien d'écart-type $\\sigma>0$."
   ]
  },
  {
   "cell_type": "code",
   "execution_count": null,
   "metadata": {},
   "outputs": [],
   "source": [
    "sigma = .01\n",
    "\n",
    "### ... ###\n",
    "\n",
    "viewimage(v)"
   ]
  },
  {
   "cell_type": "markdown",
   "metadata": {},
   "source": [
    "**QUESTION :** Essayer de déflouter l'image en inversant la convolution dans le domaine de Fourier.\n",
    "\n",
    "Reprenez l'expérience en enlevant le bruit ($\\sigma = 0$). Qu'en déduisez-vous ?"
   ]
  },
  {
   "cell_type": "code",
   "execution_count": null,
   "metadata": {},
   "outputs": [],
   "source": [
    "### ... ###\n",
    "\n",
    "viewimage(u)"
   ]
  },
  {
   "cell_type": "markdown",
   "metadata": {},
   "source": [
    "**QUESTION :** Déflouter l'image en utilisant le filtre linéaire lié à la régularisation de Tychonov. Elle correspond au filtre $h_\\lambda$ cette fois défini par\n",
    "$$\\forall (\\xi,\\zeta) \\in \\Omega, \\quad\n",
    "    \\hat{h}_\\lambda(\\xi,\\zeta) = \\frac{\\overline{k(\\xi,\\zeta)}}{|\\hat{k}(\\xi,\\zeta)|^2 + 2\\lambda \\ \\hat{L}(\\xi,\\zeta) } $$\n",
    "\n",
    "Faites varier la valeur de $\\lambda$ et essayez de trouver une valeur optimale."
   ]
  },
  {
   "cell_type": "code",
   "execution_count": null,
   "metadata": {},
   "outputs": [],
   "source": [
    "lam = .01\n",
    "\n",
    "### ... ###\n",
    "\n",
    "viewimage(u)"
   ]
  },
  {
   "cell_type": "markdown",
   "metadata": {},
   "source": [
    "**QUESTION :** Réduire une l'image suivante en sous-échantillonnant par 2, 3 ou 4 dans les deux directions."
   ]
  },
  {
   "cell_type": "code",
   "execution_count": null,
   "metadata": {},
   "outputs": [],
   "source": [
    "u = plt.imread('im/tshirt.png')\n",
    "ud2 = ### ... ###\n",
    "ud3 = ### ... ###\n",
    "ud4 = ### ... ###\n",
    "\n",
    "viewimage(u)\n",
    "viewimage(ud2)\n",
    "viewimage(ud3)\n",
    "viewimage(ud4)"
   ]
  },
  {
   "cell_type": "markdown",
   "metadata": {},
   "source": [
    "**QUESTION :** Afficher les modules transformées de Fourier des images correspondantes."
   ]
  },
  {
   "cell_type": "code",
   "execution_count": null,
   "metadata": {},
   "outputs": [],
   "source": [
    "### ... ###"
   ]
  },
  {
   "cell_type": "markdown",
   "metadata": {},
   "source": [
    "**QUESTION BONUS :** Adapter la méthode de débruitage et déflouage ci-dessus sur une image couleur."
   ]
  },
  {
   "cell_type": "code",
   "execution_count": null,
   "metadata": {},
   "outputs": [],
   "source": [
    "u0 = plt.imread('im/simpson512.png')\n",
    "u0 = u0[135:263,40:168,:]\n",
    "M,N,nc = u0.shape\n",
    "\n",
    "viewimage(u0)\n",
    "\n",
    "### ... ###"
   ]
  }
 ],
 "metadata": {
  "kernelspec": {
   "display_name": "Python 3 (ipykernel)",
   "language": "python",
   "name": "python3"
  },
  "language_info": {
   "codemirror_mode": {
    "name": "ipython",
    "version": 3
   },
   "file_extension": ".py",
   "mimetype": "text/x-python",
   "name": "python",
   "nbconvert_exporter": "python",
   "pygments_lexer": "ipython3",
   "version": "3.11.4"
  }
 },
 "nbformat": 4,
 "nbformat_minor": 4
}
